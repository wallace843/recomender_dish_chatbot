{
  "nbformat": 4,
  "nbformat_minor": 0,
  "metadata": {
    "colab": {
      "provenance": [],
      "gpuType": "T4",
      "authorship_tag": "ABX9TyN/2fLDckctHVuZBz3pZDmO",
      "include_colab_link": true
    },
    "kernelspec": {
      "name": "python3",
      "display_name": "Python 3"
    },
    "language_info": {
      "name": "python"
    },
    "accelerator": "GPU"
  },
  "cells": [
    {
      "cell_type": "markdown",
      "metadata": {
        "id": "view-in-github",
        "colab_type": "text"
      },
      "source": [
        "<a href=\"https://colab.research.google.com/github/wallace843/recomender_dish_chatbot/blob/main/llm_as_judge.ipynb\" target=\"_parent\"><img src=\"https://colab.research.google.com/assets/colab-badge.svg\" alt=\"Open In Colab\"/></a>"
      ]
    },
    {
      "cell_type": "code",
      "execution_count": null,
      "metadata": {
        "id": "QTUCzbNoUXtb"
      },
      "outputs": [],
      "source": [
        "!pip install transformers accelerate bitsandbytes langchain pymongo sentence-transformers"
      ]
    },
    {
      "cell_type": "code",
      "source": [
        "from langchain_community.vectorstores import MongoDBAtlasVectorSearch\n",
        "from langchain.embeddings import HuggingFaceEmbeddings\n",
        "from langchain.prompts import PromptTemplate\n",
        "from pymongo.mongo_client import MongoClient\n",
        "from torch import bfloat16\n",
        "import transformers\n",
        "from langchain.llms import HuggingFacePipeline\n",
        "from langchain.chains import RetrievalQA"
      ],
      "metadata": {
        "id": "w9BRekgEUvJG"
      },
      "execution_count": null,
      "outputs": []
    },
    {
      "cell_type": "code",
      "source": [
        "fdfd"
      ],
      "metadata": {
        "id": "xFrbuyx0WUBE"
      },
      "execution_count": null,
      "outputs": []
    },
    {
      "cell_type": "code",
      "source": [],
      "metadata": {
        "id": "ZMJy3LlAWT_g"
      },
      "execution_count": null,
      "outputs": []
    },
    {
      "cell_type": "code",
      "source": [
        "def get_llm(model_name):\n",
        ""
      ],
      "metadata": {
        "id": "gJ-JoxU2U81B"
      },
      "execution_count": null,
      "outputs": []
    }
  ]
}